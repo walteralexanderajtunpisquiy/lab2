{
 "cells": [
  {
   "cell_type": "markdown",
   "id": "04b1e488-3487-4d39-8bfe-d0702234aec5",
   "metadata": {},
   "source": [
    "## LABORATORIO # 2 \n",
    "Walter Alexander Ajtun Pisquiy\n",
    "Carne: 24008909\n"
   ]
  },
  {
   "cell_type": "code",
   "execution_count": 8,
   "id": "9a7c9a57-d097-4198-bb39-3a22ed6cb735",
   "metadata": {
    "tags": []
   },
   "outputs": [
    {
     "name": "stdin",
     "output_type": "stream",
     "text": [
      "Ingrese el número de segundos:  3600\n"
     ]
    },
    {
     "name": "stdout",
     "output_type": "stream",
     "text": [
      "Horas: 1, Minutos: 0, Segundos: 0\n"
     ]
    }
   ],
   "source": [
    "#ejecicio 1 \n",
    "def dato(numero):\n",
    "    horas = numero // 3600\n",
    "    minutos = (numero % 3600) // 60\n",
    "    segundosfinal = numero % 60\n",
    "    return horas, minutos, segundosfinal\n",
    "\n",
    "try:\n",
    "    numero = int(input(\"Ingrese el número de segundos: \"))\n",
    "    if numero <=0:\n",
    "        print (\"El numero debe ser mayor a 0\")\n",
    "    else:\n",
    "        horas, minutos, segundosfinal = dato(numero)\n",
    "        print(f\"Horas: {horas}, Minutos: {minutos}, Segundos: {segundosfinal}\")\n",
    "except ValueError as err:\n",
    "    print(f\"Error: {err}\")\n"
   ]
  },
  {
   "cell_type": "code",
   "execution_count": 15,
   "id": "45d5c3be-5959-449e-af04-e12b927038c8",
   "metadata": {
    "tags": []
   },
   "outputs": [
    {
     "name": "stdin",
     "output_type": "stream",
     "text": [
      "Ingrese un número entre 1 y 20:  7\n",
      "Ingrese un carácter:  *\n"
     ]
    },
    {
     "name": "stdout",
     "output_type": "stream",
     "text": [
      "*\n",
      "**\n",
      "***\n",
      "****\n",
      "*****\n",
      "******\n",
      "*******\n",
      "******\n",
      "*****\n",
      "****\n",
      "***\n",
      "**\n",
      "*\n",
      "      *\n",
      "     **\n",
      "    ***\n",
      "   ****\n",
      "  *****\n",
      " ******\n",
      "*******\n",
      " ******\n",
      "  *****\n",
      "   ****\n",
      "    ***\n",
      "     **\n",
      "      *\n"
     ]
    }
   ],
   "source": [
    "# Ejercicio2\n",
    "def imp_patron1(numero, caracter):\n",
    "    for i in range(1, numero + 1):\n",
    "        print(caracter * i)\n",
    "\n",
    "def imp_patron2(numero, caracter):\n",
    "    for i in range(numero - 1, 0, -1):\n",
    "        print(caracter * i)\n",
    "\n",
    "def imp_patron3(numero, caracter):\n",
    "    for i in range(1, numero + 1):\n",
    "        print(\" \" * (numero - i) + caracter * i)\n",
    "\n",
    "def imp_patron4(numero, caracter):\n",
    "    for i in range(numero - 1, 0, -1):\n",
    "        print(\" \" * (numero - i) + caracter * i)\n",
    "\n",
    "try:\n",
    "    numero = int(input(\"Ingrese un número entre 1 y 20: \"))\n",
    "    caracter = input(\"Ingrese un carácter: \")\n",
    "    if not 1 <= numero <= 20:\n",
    "        raise ValueError(\"El número debe estar entre 1 y 20.\")\n",
    "    if len(caracter) != 1:\n",
    "        raise ValueError(\"El carácter debe ser de longitud 1.\")\n",
    "\n",
    "    imp_patron1(numero, caracter)\n",
    "    imp_patron2(numero, caracter)\n",
    "    imp_patron3(numero, caracter)\n",
    "    imp_patron4(numero, caracter)\n",
    "\n",
    "\n",
    "except ValueError as ve:\n",
    "    print(f\"Error: {ve}\")\n",
    "except Exception as e:\n",
    "    print(f\"Error inesperado: {e}\")\n"
   ]
  },
  {
   "cell_type": "code",
   "execution_count": 12,
   "id": "3cc1a821-ebdd-4d1e-a44a-924667d7110f",
   "metadata": {
    "tags": []
   },
   "outputs": [
    {
     "name": "stdin",
     "output_type": "stream",
     "text": [
      "Ingrese el año de nacimiento con formato (YYYY):  1995\n",
      "Ingrese el mes de nacimiento con formato (MM):  3\n",
      "Ingrese el día de nacimiento con formato (DD):  29\n"
     ]
    },
    {
     "name": "stdout",
     "output_type": "stream",
     "text": [
      "Edad: 28 años, 11 meses, 10 días.\n"
     ]
    }
   ],
   "source": [
    "#Ejercicio3\n",
    "from datetime import datetime\n",
    "\n",
    "def calcula_edad(fecha_nacimiento):\n",
    "    fecha_actual = datetime.now()\n",
    "    edad = fecha_actual - fecha_nacimiento\n",
    "    años = edad.days // 365\n",
    "    meses = (edad.days % 365) // 30\n",
    "    dias = (edad.days % 365) % 30\n",
    "    return años, meses, dias\n",
    "\n",
    "try:\n",
    " \n",
    "    año = int(input(\"Ingrese el año de nacimiento con formato (YYYY): \"))\n",
    "    mes = int(input(\"Ingrese el mes de nacimiento con formato (MM): \"))\n",
    "    dia = int(input(\"Ingrese el día de nacimiento con formato (DD): \"))\n",
    "\n",
    "    fecha_nacimiento = datetime(año, mes, dia)\n",
    "\n",
    "    años, meses, dias = calcula_edad(fecha_nacimiento)\n",
    "\n",
    "\n",
    "    print(f\"Edad: {años} años, {meses} meses, {dias} días.\")\n",
    "except ValueError as error:\n",
    "    print(f\"Error: {error}\")\n",
    "except Exception as e:\n",
    "    print(f\"Error inesperado: {e}\")\n"
   ]
  },
  {
   "cell_type": "code",
   "execution_count": 25,
   "id": "e016af71-6917-487c-aa89-74548e9ce50b",
   "metadata": {
    "tags": []
   },
   "outputs": [
    {
     "name": "stdout",
     "output_type": "stream",
     "text": [
      "403020570\n"
     ]
    }
   ],
   "source": [
    "#Ejercicio 4\n",
    "def tupla_a_string(tupla):\n",
    " \n",
    "    resultado = ''\n",
    "    for num in tupla:\n",
    "        resultado += ''+str (num) #Concatenamos entrada y se convierte a string\n",
    "    return resultado\n",
    "\n",
    "tupla_entrada = (40, 30, 20, 5, 70)\n",
    "resultado = tupla_a_string(tupla_entrada)\n",
    "print(resultado)  # Salida: '403020570'\n"
   ]
  },
  {
   "cell_type": "code",
   "execution_count": 24,
   "id": "a71410b5-faac-4eb5-83e7-8d641ac690f4",
   "metadata": {
    "tags": []
   },
   "outputs": [
    {
     "name": "stdout",
     "output_type": "stream",
     "text": [
      "El resultado es: [('X',), ('a', 'b'), ('a', 'b', '', 'c'), 'd']\n"
     ]
    }
   ],
   "source": [
    "#Ejercicio 5\n",
    "def elimina_tuplas_vacias(lista_tuplas):\n",
    "    lista_resultado = []\n",
    "    for tupla in lista_tuplas:\n",
    "        if tupla: \n",
    "            lista_resultado.append(tupla)\n",
    "    return lista_resultado\n",
    "\n",
    "\n",
    "lista = [(), (), ('X',), ('a', 'b'), ('a', 'b', '','c'), ('d')]\n",
    "resultado = elimina_tuplas_vacias(lista)\n",
    "print(\"El resultado es:\", resultado)\n"
   ]
  },
  {
   "cell_type": "code",
   "execution_count": 23,
   "id": "64e89e30-53e8-44b0-8319-13313d6f9f61",
   "metadata": {
    "tags": []
   },
   "outputs": [
    {
     "name": "stdout",
     "output_type": "stream",
     "text": [
      "(10.5, 44.0, 58.0)\n"
     ]
    }
   ],
   "source": [
    "#Ejercicio6\n",
    "def calcularpromedio_tuplas(tupla_de_tuplas):\n",
    "    promedios = []\n",
    "    for tupla in tupla_de_tuplas:\n",
    "        promedio = sum(tupla) / len(tupla)\n",
    "        promedios.append(promedio)\n",
    "    return tuple(promedios)\n",
    "\n",
    "\n",
    "tupla_entrada = ((10, 10, 10, 12), (30, 45, 56, 45), (81, 80, 39, 32))\n",
    "resultado = calcularpromedio_tuplas(tupla_entrada)\n",
    "print(resultado) \n"
   ]
  },
  {
   "cell_type": "code",
   "execution_count": 26,
   "id": "38c2932b-b201-4739-a397-46ce98959a27",
   "metadata": {
    "tags": []
   },
   "outputs": [
    {
     "name": "stdout",
     "output_type": "stream",
     "text": [
      "\n",
      " Bienvenido, elija una opcion\n",
      "1. Agregar una nueva factura\n",
      "2. Pagar una factura existente\n",
      "3. Terminar\n"
     ]
    },
    {
     "name": "stdin",
     "output_type": "stream",
     "text": [
      "Ingrese el número de la opción:  1\n",
      "Ingrese el número de factura (4 dígitos):  2222\n",
      "Ingrese el monto de la factura:  20\n"
     ]
    },
    {
     "name": "stdout",
     "output_type": "stream",
     "text": [
      "Factura agregada con exito\n",
      "Facturas pendientes:\n",
      "Número de factura: 2222 - Monto: 20.0\n",
      "Facturas pagadas:\n",
      "\n",
      "Cantidad cobrada hasta el momento: 0\n",
      "Cantidad pendiente de cobro: 20.0\n",
      "\n",
      " Bienvenido, elija una opcion\n",
      "1. Agregar una nueva factura\n",
      "2. Pagar una factura existente\n",
      "3. Terminar\n"
     ]
    },
    {
     "name": "stdin",
     "output_type": "stream",
     "text": [
      "Ingrese el número de la opción:  1\n",
      "Ingrese el número de factura (4 dígitos):  5555\n",
      "Ingrese el monto de la factura:  50\n"
     ]
    },
    {
     "name": "stdout",
     "output_type": "stream",
     "text": [
      "Factura agregada con exito\n",
      "Facturas pendientes:\n",
      "Número de factura: 2222 - Monto: 20.0\n",
      "Número de factura: 5555 - Monto: 50.0\n",
      "Facturas pagadas:\n",
      "\n",
      "Cantidad cobrada hasta el momento: 0\n",
      "Cantidad pendiente de cobro: 70.0\n",
      "\n",
      " Bienvenido, elija una opcion\n",
      "1. Agregar una nueva factura\n",
      "2. Pagar una factura existente\n",
      "3. Terminar\n"
     ]
    },
    {
     "name": "stdin",
     "output_type": "stream",
     "text": [
      "Ingrese el número de la opción:  1\n",
      "Ingrese el número de factura (4 dígitos):  3333\n",
      "Ingrese el monto de la factura:  30\n"
     ]
    },
    {
     "name": "stdout",
     "output_type": "stream",
     "text": [
      "Factura agregada con exito\n",
      "Facturas pendientes:\n",
      "Número de factura: 2222 - Monto: 20.0\n",
      "Número de factura: 5555 - Monto: 50.0\n",
      "Número de factura: 3333 - Monto: 30.0\n",
      "Facturas pagadas:\n",
      "\n",
      "Cantidad cobrada hasta el momento: 0\n",
      "Cantidad pendiente de cobro: 100.0\n",
      "\n",
      " Bienvenido, elija una opcion\n",
      "1. Agregar una nueva factura\n",
      "2. Pagar una factura existente\n",
      "3. Terminar\n"
     ]
    },
    {
     "name": "stdin",
     "output_type": "stream",
     "text": [
      "Ingrese el número de la opción:  2\n",
      "Ingrese el número de factura a pagar:  5555\n"
     ]
    },
    {
     "name": "stdout",
     "output_type": "stream",
     "text": [
      "La factura 5555 se ha pagado correctamente.\n",
      "Facturas pendientes:\n",
      "Número de factura: 2222 - Monto: 20.0\n",
      "Número de factura: 3333 - Monto: 30.0\n",
      "Facturas pagadas:\n",
      "Número de factura: 5555 - Monto: 50.0\n",
      "\n",
      "Cantidad cobrada hasta el momento: 50.0\n",
      "Cantidad pendiente de cobro: 50.0\n",
      "\n",
      " Bienvenido, elija una opcion\n",
      "1. Agregar una nueva factura\n",
      "2. Pagar una factura existente\n",
      "3. Terminar\n"
     ]
    },
    {
     "name": "stdin",
     "output_type": "stream",
     "text": [
      "Ingrese el número de la opción:  3\n"
     ]
    },
    {
     "name": "stdout",
     "output_type": "stream",
     "text": [
      "Terminando el programa...\n"
     ]
    }
   ],
   "source": [
    "#Ejercicio 7\n",
    "def FacturasPendientes(facturas):\n",
    "    print(\"Facturas pendientes:\")\n",
    "    for id_factura, monto in facturas.items():\n",
    "        print(f\"Número de factura: {id_factura} - Monto: {monto}\")\n",
    "\n",
    "def FacturasPagadas(facturas):\n",
    "    print(\"Facturas pagadas:\")\n",
    "    for id_factura, monto in facturas.items():\n",
    "        print(f\"Número de factura: {id_factura} - Monto: {monto}\")\n",
    "#Diccionarios\n",
    "facturas ={}\n",
    "facturas_pagadas={}\n",
    "while 1:\n",
    "    print(\"\\n Bienvenido, elija una opcion\")\n",
    "    print(\"1. Agregar una nueva factura\")\n",
    "    print(\"2. Pagar una factura existente\")\n",
    "    print(\"3. Terminar\")\n",
    "    opcion = input(\"Ingrese el número de la opción: \")\n",
    "\n",
    "    if opcion=='1':\n",
    "\n",
    "        noFactura = input(\"Ingrese el número de factura (4 dígitos): \")\n",
    "        monto = float(input(\"Ingrese el monto de la factura: \"))\n",
    "        facturas[noFactura] = monto\n",
    "        print(\"Factura agregada con exito\")\n",
    "\n",
    "    elif opcion == '2':\n",
    "        NoFacturApagar = input(\"Ingrese el número de factura a pagar: \")\n",
    "        if NoFacturApagar in facturas:\n",
    "            monto = facturas.pop(NoFacturApagar)\n",
    "            facturas_pagadas[NoFacturApagar] = monto\n",
    "            print(f\"La factura {NoFacturApagar} se ha pagado correctamente.\")\n",
    "           \n",
    "        else:\n",
    "            print(\"La factura especificada no existe.\")\n",
    "    elif opcion == \"3\":\n",
    "        print(\"Terminando el programa...\")\n",
    "        break \n",
    "    else:\n",
    "        print(\"Ingrese opcion correcta\")\n",
    "        \n",
    " \n",
    "    FacturasPendientes(facturas)    \n",
    "    FacturasPagadas(facturas_pagadas)\n",
    "    montoPendinte = sum(facturas.values())# valor de los diccionarios y se suma\n",
    "    montoPagado = sum (facturas_pagadas.values())#valor de diccionario y se suma\n",
    "    print(f\"\\nCantidad cobrada hasta el momento: {montoPagado}\")\n",
    "    print(f\"Cantidad pendiente de cobro: {montoPendinte}\")\n",
    "     \n"
   ]
  },
  {
   "cell_type": "code",
   "execution_count": 28,
   "id": "89d36cf0-8a65-4b89-bc6e-d91f17d5b476",
   "metadata": {
    "tags": []
   },
   "outputs": [
    {
     "name": "stdout",
     "output_type": "stream",
     "text": [
      "Conjunto 1: {'T08', 'C07', 'E08', 'C10', 'C09', 'E07', 'C06', 'P03', 'C04', 'C02', 'P11', 'T02', 'C11', 'P06', 'T11', 'E04', 'P02', 'P09', 'T05', 'E03', 'P05', 'E11', 'P12', 'T04', 'E09', 'T03', 'C05', 'T13', 'P01', 'E12'}\n",
      "Conjunto 2: {'T08', 'E13', 'P04', 'C10', 'C09', 'E10', 'T12', 'E05', 'C03', 'E07', 'P08', 'C13', 'C11', 'P06', 'T11', 'P07', 'E04', 'T05', 'E03', 'P05', 'E11', 'P12', 'T04', 'E09', 'T10', 'T03', 'C12', 'C05', 'P10', 'P01', 'P13', 'E02'}\n",
      "Probabilidad de intersección: 1.875 %\n",
      "Probabilidad de unión: 117.35576923076923 %\n"
     ]
    }
   ],
   "source": [
    "#Ejercicio 8\n",
    "import random\n",
    "\n",
    "def crear_baraja():\n",
    "    baraja = set()\n",
    "    tipos = ['T', 'C', 'P', 'E']\n",
    "    for tipo in tipos:\n",
    "        for numero in range(1, 14):\n",
    "            carta = tipo + str(numero).zfill(2)\n",
    "            baraja.add(carta)\n",
    "    return baraja\n",
    "\n",
    "def crear_conjuntos_aleatorios(baraja):\n",
    "    tamano_conjunto1 = random.randint(1, len(baraja))\n",
    "    tamano_conjunto2 = random.randint(1, len(baraja))\n",
    "\n",
    "    conjunto1 = set()\n",
    "\n",
    "    for _ in range(tamano_conjunto1):\n",
    "        carta = random.choice(list(baraja))\n",
    "        conjunto1.add(carta)\n",
    "        \n",
    "    return conjunto1\n",
    "\n",
    "def calcular_probabilidades(conjunto1, conjunto2, baraja):\n",
    "    interseccion = conjunto1.intersection(conjunto2)\n",
    "    prob_interseccion = len(interseccion) / (len(conjunto1) * len(conjunto2))\n",
    "\n",
    "    prob_conjunto1 = len(conjunto1) / len(baraja)\n",
    "    prob_conjunto2 = len(conjunto2) / len(baraja)\n",
    "\n",
    "    prob_union = prob_conjunto1 + prob_conjunto2 - prob_interseccion\n",
    "\n",
    "    return prob_interseccion, prob_union\n",
    "\n",
    "baraja = crear_baraja()\n",
    "\n",
    "conjunto1= crear_conjuntos_aleatorios(baraja)\n",
    "conjunto2 = crear_conjuntos_aleatorios(baraja)\n",
    "\n",
    "prob_interseccion, prob_union = calcular_probabilidades(conjunto1, conjunto2, baraja)\n",
    "\n",
    "print(\"Conjunto 1:\", conjunto1)\n",
    "print(\"Conjunto 2:\", conjunto2)\n",
    "print(\"Probabilidad de intersección:\", str(prob_interseccion*100)+' %')\n",
    "print(\"Probabilidad de unión:\",str(prob_union*100)+' %' )\n"
   ]
  },
  {
   "cell_type": "code",
   "execution_count": null,
   "id": "e6a7185a-cf0d-4961-9568-5d58087c7df4",
   "metadata": {},
   "outputs": [],
   "source": []
  }
 ],
 "metadata": {
  "kernelspec": {
   "display_name": "Python 3 (ipykernel)",
   "language": "python",
   "name": "python3"
  },
  "language_info": {
   "codemirror_mode": {
    "name": "ipython",
    "version": 3
   },
   "file_extension": ".py",
   "mimetype": "text/x-python",
   "name": "python",
   "nbconvert_exporter": "python",
   "pygments_lexer": "ipython3",
   "version": "3.11.5"
  }
 },
 "nbformat": 4,
 "nbformat_minor": 5
}
